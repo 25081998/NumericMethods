{
 "cells": [
  {
   "cell_type": "code",
   "execution_count": 1,
   "metadata": {},
   "outputs": [],
   "source": [
    "import numpy as np\n",
    "import pandas as pd\n",
    "import math\n",
    "import pylab\n",
    "import matplotlib.pyplot as plt\n",
    "import random\n",
    "\n",
    "from numpy import arange\n",
    "from numpy import meshgrid\n",
    "from matplotlib import mlab\n",
    "from sys import stdin\n",
    "from copy import deepcopy"
   ]
  },
  {
   "cell_type": "code",
   "execution_count": 2,
   "metadata": {},
   "outputs": [],
   "source": [
    "class Matrix:\n",
    "    \n",
    "# ИНИЦИАЛИЗАЦИЯ\n",
    "    def __init__(self, matrix, LU=False, history=False):\n",
    "        self.matrix = deepcopy(matrix)\n",
    "        self.size = self._Size()\n",
    "        if LU == True:\n",
    "            self.LU, self.P, self.p = self._LUP(history)\n",
    "        else:\n",
    "            self.LU = None\n",
    "            self.P = None\n",
    "            self.p = 0\n",
    "        \n",
    "# ПЕЧАТЬ МАТРИЦЫ\n",
    "    def __str__(self):\n",
    "        return '\\n'.join([''.join(['%f\\t' % i for i in row]) for\n",
    "                          row in self.matrix])\n",
    "# РАЗМЕР МАТРИЦЫ\n",
    "    def _Size(self):\n",
    "        rows = len(self.matrix)\n",
    "        cols = 0\n",
    "        for row in self.matrix:\n",
    "            if (type(row) == int) | (type(row) == float):\n",
    "                break\n",
    "            if len(row) > cols:\n",
    "                cols = len(row)\n",
    "        return (rows, cols)\n",
    "    \n",
    "# LUP РАЗЛОЖЕНИЕ\n",
    "    def _LUP(self, history=False):\n",
    "        if self.size[0] != self.size[1]:\n",
    "            raise Exception(\"Матрица должна быть квадратной\")\n",
    "    \n",
    "        P = [i for i in range(self.size[0])]\n",
    "        LU = self\n",
    "        p = 0\n",
    " \n",
    "        for k in range(self.size[0]):\n",
    "            m = 0\n",
    "            row, col = LU.Max_by_axis(k)\n",
    "            if (row != k) & (LU.matrix[row][col] != 0):\n",
    "                p += 1\n",
    "            if LU.matrix[row][col] == 0:\n",
    "                raise Exception(\"Столбец нулевой\")\n",
    "            P[k], P[row] = P[row], P[k]\n",
    "            LU = Matrix.Permutation(row, col, self.size[0]).Multiply(LU)\n",
    "            for i in range(k + 1, self.size[0]):\n",
    "                LU.matrix[i][k] = LU.matrix[i][k] / LU.matrix[k][k]\n",
    "                for j in range(k + 1, self.size[0]):\n",
    "                    LU.matrix[i][j] = LU.matrix[i][j] - LU.matrix[i][k] * LU.matrix[k][j] \n",
    "            \n",
    "        if history == True:\n",
    "            print(\"P:\\n{}\".format(P))\n",
    "        return LU, P, p\n",
    "\n",
    "# LU\n",
    "    def LU_(self, history=False):\n",
    "        if self.size[0] != self.size[1]:\n",
    "            raise Exception(\"Матрица должна быть квадратной\")\n",
    "            \n",
    "        L = Matrix.E(self.size[0])\n",
    "        U = Matrix.E(self.size[0])\n",
    "        \n",
    "        for i in range(self.size[0]):\n",
    "            U.matrix[i][i] = self.LU.matrix[i][i]\n",
    "            for j in range(self.size[0]):\n",
    "                if (j < i):\n",
    "                    L.matrix[i][j] = self.LU.matrix[i][j]\n",
    "                else:\n",
    "                    U.matrix[i][j] = self.LU.matrix[i][j]\n",
    "        \n",
    "        if history == True:\n",
    "            print(\"L:\\n{}\".format(L))\n",
    "            print(\"U:\\n{}\".format(U))\n",
    "            print(\"LU:\\n{}\".format(L.Multiply(U)))\n",
    "        return L, U\n",
    "\n",
    "# УМНОЖЕНИЕ   \n",
    "    def Multiply(self, m):\n",
    "        if self.size[1] != m.size[0]:\n",
    "            raise Exception(\"Несоответствие размерностей: {0} {1}\".format(self.size, m.size))\n",
    "        #print(res.size)\n",
    "        res = []\n",
    "        rows = []\n",
    "        #for i, row in enumerate(self.matrix):\n",
    "        for i in range(self.size[0]):\n",
    "            for j in range(m.size[1]):\n",
    "            #for j, col in enumerate(row):\n",
    "                val = 0\n",
    "                for k in range(self.size[1]):\n",
    "                    val += self.matrix[i][k] * m.matrix[k][j]                \n",
    "                rows.append(val)    \n",
    "            res.append(rows)\n",
    "            rows = []\n",
    "        return Matrix(res)\n",
    "    \n",
    "# СУММА   \n",
    "    def Sum(self, m):\n",
    "        if self.size != m.size:\n",
    "            raise Exception(\"Несоответствие размерностей: {0} {1}\".format(self.size, m.size))\n",
    "        res = []\n",
    "        rows = []\n",
    "        for i, row in enumerate(self.matrix):\n",
    "            for j, col in enumerate(row):\n",
    "                rows.append(self.matrix[i][j] + m.matrix[i][j])    \n",
    "            res.append(rows)\n",
    "            rows = []\n",
    "        return Matrix(res)\n",
    "    \n",
    "# УМНОЖЕНИЕ НА ЧИСЛО   \n",
    "    def MultiNum(self, n):\n",
    "        res = []\n",
    "        rows = []\n",
    "        for i, row in enumerate(self.matrix):\n",
    "            for j, col in enumerate(row):\n",
    "                rows.append(n * self.matrix[i][j])    \n",
    "            res.append(rows)\n",
    "            rows = []\n",
    "        return Matrix(res)\n",
    "    \n",
    "# МАКСИМАЛЬНЫЙ ЭЕЛЕМЕНТ СРОКИ ИЛИ СТОЛБЦА ПО МОДУЛЮ  \n",
    "    def Max_by_axis(self, num, axis=1):\n",
    "        m = 0\n",
    "        num = num\n",
    "        if axis == 1:\n",
    "            for i in range(num, self.size[0]):\n",
    "                if abs(self.matrix[i][num]) > m:\n",
    "                    m = self.matrix[i][num]\n",
    "                    row = i\n",
    "                    col = num\n",
    "        elif axis == 0:\n",
    "            for i in range(self.size[1]):\n",
    "                if abs(self.matrix[num][i]) > m:\n",
    "                    m = self.matrix[num][i]\n",
    "                    row = num\n",
    "                    col = i\n",
    "        else:\n",
    "            raise Exception(\"Недопустимое значение axis\")\n",
    "        return row, col\n",
    "    \n",
    "# МАКСИМАЛЬНЫЙ ЭЛЕМЕНТ МАТРИЦЫ    \n",
    "    def Max(self):\n",
    "        m = -10000000000\n",
    "        for i in range(self.size[0]):\n",
    "            for j in range(self.size[1]):\n",
    "                if abs(self.matrix[i][j]) > m:\n",
    "                    m = self.matrix[i][j]\n",
    "        return m\n",
    "    \n",
    "# ОПРЕДЕЛИТЕЛЬ\n",
    "    def Det(self):\n",
    "        if self.size[0] != self.size[1]:\n",
    "            raise Exception(\"Матрица должна быть квадратной\")\n",
    "        if self.LU == None:\n",
    "            self.LU, self.P, self.p = self._LUP()\n",
    "        det = pow(-1, self.p)\n",
    "        for k in range(self.size[0]):\n",
    "            det *= self.LU.matrix[k][k]\n",
    "        return det\n",
    "            \n",
    "# ОБРАТНАЯ МАТРИЦА\n",
    "    def Reverse(self):\n",
    "        if self.size[0] != self.size[1]:\n",
    "            raise Exception(\"Матрица должна быть квадратной\")\n",
    "        if self.LU == None:\n",
    "            self.LU, self.P, self.p = self._LUP()\n",
    "        det = self.Det()\n",
    "        if det == 0:\n",
    "            raise Exception(\"Определитель равен 0\")\n",
    "        res = []\n",
    "        for k in range(self.size[0]):\n",
    "            res.append(Gauss_LU(self, e(k, self.size[0])))\n",
    "        return Matrix(res).Transpose()\n",
    "    \n",
    "# ТРАНСПОНИРОВАНИЕ\n",
    "    def Transpose(self):\n",
    "        res = self\n",
    "        if self.size[0] == self.size[1]:\n",
    "            for i in range(self.size[0]):\n",
    "                for j in range(i + 1, self.size[0]):\n",
    "                    a = res.matrix[i][j]\n",
    "                    res.matrix[i][j] = res.matrix[j][i]\n",
    "                    res.matrix[j][i] = a\n",
    "            return res\n",
    "        else:\n",
    "            res = []            \n",
    "            for i in range(self.size[1]):\n",
    "                rows = []\n",
    "                for j in range(self.size[0]):\n",
    "                    rows.append(self.matrix[j][i])\n",
    "                res.append(rows)\n",
    "            return Matrix(res)\n",
    "        \n",
    "# РАВЕНСТВО МАТРИЦ\n",
    "    def Equal(A, B):\n",
    "        if (A.size[0] != B.size[0]) | (A.size[1] != B.size[1]):\n",
    "            return False\n",
    "        else:\n",
    "            for i in range(A.size[0]):\n",
    "                for j in range(A.size[1]):\n",
    "                    if A.matrix[i][j] != B.matrix[i][j]:\n",
    "                        return False\n",
    "            return True\n",
    "        \n",
    "# СИММЕТРИЧНОСТЬ МАТРИЦЫ\n",
    "    def Simmetric(m):\n",
    "        if m.size[0] != m.size[1]:\n",
    "            return False\n",
    "        else:\n",
    "            for i in range(m.size[0]):\n",
    "                for j in range(i + 1, m.size[1]):\n",
    "                    if m.matrix[i][j] != m.matrix[j][i]:\n",
    "                        return False\n",
    "            return True\n",
    "    \n",
    "##################  СТАТИЧЕСКИЕ  #######################\n",
    "\n",
    "# ЕДИНИЧНАЯ МАТРИЦА\n",
    "    def E(n):\n",
    "        e = []\n",
    "        rows = []\n",
    "        for i in range(n):\n",
    "            for j in range(n):\n",
    "                if i == j:\n",
    "                    rows.append(1)\n",
    "                else:\n",
    "                    rows.append(0)\n",
    "            e.append(rows)\n",
    "            rows = []\n",
    "        return Matrix(e)\n",
    "\n",
    "# НУЛЕВАЯ МАТРИЦА   \n",
    "    def Zero(n):\n",
    "        z = []\n",
    "        rows = []\n",
    "        for i in range(n):\n",
    "            for j in range(n):\n",
    "                rows.append(0)\n",
    "            e.append(rows)\n",
    "            rows = []\n",
    "        return Matrix(z)\n",
    "    \n",
    "# МАТРИЦА ПЕРЕСТАНОВОК   \n",
    "    def Permutation(row_col_1, row_col_2, n):\n",
    "        if (row_col_1 > n) | (row_col_2 > n):\n",
    "            raise Exception(\"Индексы за пределами массива\")\n",
    "        row_col_1 = row_col_1\n",
    "        row_col_2 = row_col_2\n",
    "        p = []\n",
    "        rows = []\n",
    "        for i in range(n):\n",
    "            for j in range(n):\n",
    "                if ((i == row_col_1) & (j == row_col_2)) | ((i == row_col_2) & (j == row_col_1)):\n",
    "                    rows.append(1)\n",
    "                elif (i == j) & ((i != row_col_1) & (j != row_col_2) & (i != row_col_2) & (j != row_col_1)):#(flag == True):\n",
    "                    rows.append(1)                    \n",
    "                else:\n",
    "                    rows.append(0)\n",
    "            p.append(rows)\n",
    "            rows = []\n",
    "        return Matrix(p)\n",
    "\n",
    "# ВЕКТОР НАПРАВЛЕНИЯ\n",
    "def e(i, n):\n",
    "    e = []\n",
    "    for j in range(n):\n",
    "        if j == i:\n",
    "            e.append(1)\n",
    "        else:\n",
    "            e.append(0)\n",
    "    #return Matrix(e)\n",
    "    return e\n"
   ]
  },
  {
   "cell_type": "code",
   "execution_count": 3,
   "metadata": {},
   "outputs": [],
   "source": [
    "def Progonka(A, b):\n",
    "    if (A.size[0] != A.size[1]) | (A.size[0] != len(b)):\n",
    "        raise Exception(\"Система имеет бесконечное число решений\")   \n",
    "    X = [0] * A.size[0]\n",
    "    P = [0] * A.size[0]\n",
    "    Q = [0] * A.size[0]\n",
    "    P[0] = -A.matrix[0][1] / A.matrix[0][0]\n",
    "    Q[0] = b[0] / A.matrix[0][0]\n",
    "    for i in range(1, A.size[0]):\n",
    "        if i != A.size[0] - 1:\n",
    "            P[i] = -A.matrix[i][i + 1] / (A.matrix[i][i] + P[i - 1] * A.matrix[i][i - 1])\n",
    "        else:\n",
    "            P[i] = 0\n",
    "        Q[i] = (b[i] - Q[i - 1] * A.matrix[i][i - 1]) / (A.matrix[i][i] + P[i - 1] * A.matrix[i][i - 1])\n",
    "    for i in range(A.size[0] - 1, -1, -1):\n",
    "        if i != A.size[0] - 1:\n",
    "            X[i] = X[i + 1] * P[i] + Q[i]\n",
    "        else:\n",
    "            X[i] = Q[i]\n",
    "    return X\n",
    "        "
   ]
  },
  {
   "cell_type": "code",
   "execution_count": 4,
   "metadata": {},
   "outputs": [],
   "source": [
    "def Gauss_LU(A, b, history=False):\n",
    "    if (A.size[0] != A.size[1]) | (A.size[0] != len(b)):\n",
    "        raise Exception(\"Система имеет бесконечное число решений\") \n",
    "    L, U = A.LU_(history)\n",
    "    \n",
    "    x = [0] * A.size[0]\n",
    "    z = [0] * A.size[0]\n",
    "    n = A.size[0] \n",
    "    \n",
    "    for i in range(n):\n",
    "        summ = 0\n",
    "        for j in range(i):\n",
    "            summ += L.matrix[i][j] * z[j]\n",
    " \n",
    "        z[i] = b[A.P[i]] - summ\n",
    "    \n",
    "    for i in range(n - 1, -1, -1):\n",
    "        summ = 0\n",
    "        for j in range(i + 1, n):\n",
    "            summ += U.matrix[i][j] * x[j]\n",
    " \n",
    "        x[i] = (z[i] - summ) / U.matrix[i][i]\n",
    "    return x"
   ]
  },
  {
   "cell_type": "markdown",
   "metadata": {},
   "source": [
    "# Часть 1"
   ]
  },
  {
   "cell_type": "code",
   "execution_count": 5,
   "metadata": {},
   "outputs": [],
   "source": [
    "def f(x):\n",
    "    return math.sin(x)\n",
    "\n",
    "pi = math.pi\n",
    "\n",
    "X_a = np.array([0.1 * pi, 0.2 * pi, 0.3 * pi, 0.4 * pi])\n",
    "X_b = np.array([0.1 * pi, pi / 6, 0.3 * pi, 0.4 * pi])\n",
    "X = pi / 4"
   ]
  },
  {
   "cell_type": "code",
   "execution_count": 6,
   "metadata": {},
   "outputs": [],
   "source": [
    "def omega(x, X):\n",
    "    w = 1\n",
    "    for i in range(len(X)):\n",
    "        w *= (x - X[i])\n",
    "    return w\n",
    "\n",
    "def omega_(x, X):\n",
    "    w = 1\n",
    "    for i in range(len(X)):\n",
    "        if X[i] != x:\n",
    "            w *= (x - X[i])\n",
    "    return w\n",
    "\n",
    "def L(x, X):\n",
    "    l = 0\n",
    "    for i in range(len(X)):\n",
    "        l += (f(X[i]) * omega(x, X)) / ((x - X[i]) * omega_(X[i], X))\n",
    "    return l"
   ]
  },
  {
   "cell_type": "code",
   "execution_count": 7,
   "metadata": {},
   "outputs": [
    {
     "name": "stdout",
     "output_type": "stream",
     "text": [
      "МНОГОЧЛЕН ЛАГРАНЖА\n",
      "\n",
      "а)\tf(x*) = 0.7071067811865475\n",
      "\tL(x*) = 0.7069466693335428\n",
      "\tПогрешность: 0.00016011185300468522\n",
      "\n",
      "б)\tf(x*) = 0.7071067811865475\n",
      "\tL(x*) = 0.7068457655581606\n",
      "\tПогрешность: 0.00026101562838687364\n",
      "\n"
     ]
    }
   ],
   "source": [
    "print(\"МНОГОЧЛЕН ЛАГРАНЖА\\n\")\n",
    "print(\"а)\\tf(x*) = {0}\\n\\tL(x*) = {1}\\n\\tПогрешность: {2}\\n\".format(f(X), L(X, X_a), f(X) - L(X, X_a)))\n",
    "print(\"б)\\tf(x*) = {0}\\n\\tL(x*) = {1}\\n\\tПогрешность: {2}\\n\".format(f(X), L(X, X_b), f(X) - L(X, X_b)))"
   ]
  },
  {
   "cell_type": "code",
   "execution_count": 8,
   "metadata": {},
   "outputs": [],
   "source": [
    "def X_new(i, k, X):\n",
    "    return [X[j] for j in range(i, k)]\n",
    "\n",
    "def separate(X):\n",
    "    if len(X) == 2:\n",
    "        return (f(X[0]) - f(X[1])) / (X[0] - X[1])\n",
    "    else:\n",
    "        return (separate(X_new(0, len(X) - 1, X)) - separate(X_new(1, len(X), X))) / (X[0] - X[len(X) - 1])\n",
    "\n",
    "def xxx(x, i, X):\n",
    "    res = 1\n",
    "    for j in range(i):\n",
    "        res *= (x - X[j])\n",
    "    return res\n",
    "    \n",
    "def P(x, X):\n",
    "    p = f(X[0])\n",
    "    for i in range(1, len(X)):\n",
    "        X_ = X_new(0, i + 1, X)\n",
    "        p += xxx(x, i, X) * separate(X_)\n",
    "    return p"
   ]
  },
  {
   "cell_type": "code",
   "execution_count": 9,
   "metadata": {},
   "outputs": [
    {
     "name": "stdout",
     "output_type": "stream",
     "text": [
      "МНОГОЧЛЕН НЬЮТОНА\n",
      "\n",
      "а)\tf(x*) = 0.7071067811865475\n",
      "\tP(x*) = 0.7069466693335428\n",
      "\tПогрешность: 0.00016011185300468522\n",
      "\n",
      "б)\tf(x*) = 0.7071067811865475\n",
      "\tP(x*) = 0.7068457655581607\n",
      "\tПогрешность: 0.0002610156283867626\n",
      "\n"
     ]
    }
   ],
   "source": [
    "print(\"МНОГОЧЛЕН НЬЮТОНА\\n\")\n",
    "print(\"а)\\tf(x*) = {0}\\n\\tP(x*) = {1}\\n\\tПогрешность: {2}\\n\".format(f(X), P(X, X_a), f(X) - P(X, X_a)))\n",
    "print(\"б)\\tf(x*) = {0}\\n\\tP(x*) = {1}\\n\\tПогрешность: {2}\\n\".format(f(X), P(X, X_b), f(X) - P(X, X_b)))"
   ]
  },
  {
   "cell_type": "code",
   "execution_count": 10,
   "metadata": {},
   "outputs": [
    {
     "data": {
      "image/png": "[encoded data removed]",
      "text/plain": [
       "<Figure size 1080x720 with 1 Axes>"
      ]
     },
     "metadata": {
      "needs_background": "light"
     },
     "output_type": "display_data"
    }
   ],
   "source": [
    "# ГРАФИК ФУНКЦИИ\n",
    "xmin = 0\n",
    "xmax = 2\n",
    "dx = 0.01\n",
    "\n",
    "xarr = np.arange(xmin, xmax, dx)\n",
    "ylist = [f(x) for x in xarr]\n",
    "\n",
    "y_X_a = [f(x) for x in X_a]\n",
    "\n",
    "Larr = np.array([0, 0.5, 1, 1.5, 2])\n",
    "Llist = [L(x, X_a) for x in Larr]\n",
    "\n",
    "Parr = np.array([0, 0.5, 1, 1.5, 2])\n",
    "Plist = [P(x, X_a) for x in Parr]\n",
    "\n",
    "fig = plt.figure(figsize=(15, 10))\n",
    "grid = plt.grid(True) \n",
    "\n",
    "plt.title('f(x)')\n",
    "plt.plot(xarr, ylist)\n",
    "plt.plot(Larr, Llist)\n",
    "plt.plot(Parr, Plist)\n",
    "plt.plot(X_a, y_X_a, '*')\n",
    "plt.plot([0, 2], [0, 0])\n",
    "plt.plot([0, 0], [0, 2])\n",
    "plt.xlabel('X')\n",
    "plt.ylabel('Y')\n",
    "plt.legend(['f(x)', 'L(x)', 'P(x)', 'Xa', 'Ox', 'Oy'])\n",
    "plt.show()"
   ]
  },
  {
   "cell_type": "markdown",
   "metadata": {},
   "source": [
    "# Часть 2"
   ]
  },
  {
   "cell_type": "code",
   "execution_count": 11,
   "metadata": {},
   "outputs": [],
   "source": [
    "def S(x, X, F):\n",
    "    if len(X) != len(F):\n",
    "        raise Exception(\"Несовпадение размерностей\")\n",
    "        \n",
    "    h = []\n",
    "    n = len(X)\n",
    "    \n",
    "    for i in range(1, n):\n",
    "        h.append(X[i] - X[i - 1])\n",
    "        \n",
    "    c_syst = []\n",
    "    rows = []\n",
    "    \n",
    "    for i in range(n - 2):\n",
    "        if i == 0:\n",
    "            rows.append(2 * (h[i] + h[i + 1]))\n",
    "        elif i == 1:\n",
    "            rows.append(h[i])\n",
    "        else:\n",
    "            rows.append(0)\n",
    "            \n",
    "    c_syst.append(rows)\n",
    "        \n",
    "    for i in range(1, n - 3):\n",
    "        rows = []\n",
    "        for j in range(n - 2):\n",
    "            if i - 1 == j:\n",
    "                rows.append(h[i])\n",
    "            elif i == j:\n",
    "                rows.append(2 * (h[i - 1] + h[i]))\n",
    "            elif i + 1 == j:\n",
    "                rows.append(h[i])\n",
    "            else:\n",
    "                rows.append(0)\n",
    "        c_syst.append(rows)\n",
    "    \n",
    "    rows = []\n",
    "    \n",
    "    for i in range(2, n):\n",
    "        if i == n - 2:\n",
    "            rows.append(h[i])\n",
    "        elif i == n - 1:\n",
    "            rows.append(2 * (h[i - 2] + h[i - 1]))\n",
    "        else:\n",
    "            rows.append(0)\n",
    "            \n",
    "    c_syst.append(rows)        \n",
    "    b = []    \n",
    "    \n",
    "    for i in range(2, n):\n",
    "        b.append(3 * ((F[i] - F[i - 1]) / h[i - 1] - (F[i - 1] - F[i - 2]) / h[i - 2]))\n",
    "    \n",
    "    c = [0] + Progonka(Matrix(c_syst), b)\n",
    "    \n",
    "    a = []\n",
    "    b = []\n",
    "    d = []\n",
    "    \n",
    "    for i in range(n - 1):\n",
    "        a.append(F[i])\n",
    "        if i == n - 2:\n",
    "            b.append((F[i + 1] - F[i]) / h[i] - (2 / 3) * h[i] * c[i])\n",
    "            d.append(- c[i] / (3 * h[i]))\n",
    "        else:\n",
    "            b.append((F[i + 1] - F[i]) / h[i] - (1 / 3) * h[i] * (c[i + 1] + 2 * c[i]))\n",
    "            d.append((c[i + 1] - c[i]) / (3 * h[i]))\n",
    "    \n",
    "    for i in range(n - 1):\n",
    "        if (x >= X[i]) & (x <= X[i + 1]):\n",
    "            res = a[i] + b[i] * (x - X[i]) + c[i] * (x - X[i]) ** 2 + d[i] * (x - X[i]) ** 3\n",
    "            break\n",
    "    return res\n",
    "\n",
    "X = np.array([0., 1., 2., 3., 4.])\n",
    "F = np.array([1., 0.86603, 0.5, 0., -0.5])\n",
    "x = 1.5"
   ]
  },
  {
   "cell_type": "code",
   "execution_count": 12,
   "metadata": {},
   "outputs": [
    {
     "name": "stdout",
     "output_type": "stream",
     "text": [
      "f(x*) = 0.7108741517857143\n"
     ]
    }
   ],
   "source": [
    "print('f(x*) = {}'.format(S(x, X, F)))"
   ]
  },
  {
   "cell_type": "code",
   "execution_count": 13,
   "metadata": {},
   "outputs": [
    {
     "data": {
      "image/png": "[encoded data removed]",
      "text/plain": [
       "<Figure size 1080x720 with 1 Axes>"
      ]
     },
     "metadata": {
      "needs_background": "light"
     },
     "output_type": "display_data"
    }
   ],
   "source": [
    "# ГРАФИК ФУНКЦИИ\n",
    "xmin = 0\n",
    "xmax = 4\n",
    "dx = 0.01\n",
    "\n",
    "xarr = np.arange(xmin, xmax, dx)\n",
    "ylist = [S(x_, X, F) for x_ in xarr]\n",
    "\n",
    "\n",
    "fig = plt.figure(figsize=(15, 10))\n",
    "grid = plt.grid(True) \n",
    "\n",
    "plt.title('S(x)')\n",
    "plt.plot(xarr, ylist)\n",
    "plt.plot(X, F, '*')\n",
    "plt.plot([0, 5], [0, 0])\n",
    "plt.plot([0, 0], [-0.5, 1])\n",
    "plt.xlabel('X')\n",
    "plt.ylabel('Y')\n",
    "plt.legend(['S(x)', 'Xi', 'Ox', 'Oy'])\n",
    "plt.show()"
   ]
  },
  {
   "cell_type": "markdown",
   "metadata": {},
   "source": [
    "# Часть 3"
   ]
  },
  {
   "cell_type": "code",
   "execution_count": 14,
   "metadata": {},
   "outputs": [],
   "source": [
    "def MNK(X, Y, n):\n",
    "    if len(X) != len(Y):\n",
    "        raise Exception(\"Несоответсвие размерностей\")\n",
    "    A = []\n",
    "    b = []\n",
    "    \n",
    "    for i in range(n + 1):\n",
    "        rows = []\n",
    "        for j in range(n + 1):\n",
    "            rows.append(sum([x ** (i + j) for x in X]))\n",
    "        A.append(rows)\n",
    "        b.append(sum([Y[k] * X[k] ** i for k in range(len(Y))]))\n",
    "    \n",
    "    a = Gauss_LU(Matrix(A, LU=True), b)\n",
    "    return lambda x: sum([a[i] * x ** i for i in range(n + 1)])\n",
    "\n",
    "def err(f, X, Y):\n",
    "    if len(X) != len(Y):\n",
    "        raise Exception(\"Несоответсвие размерностей\")\n",
    "    return sum([(f(X[i]) - Y[i]) ** 2 for i in range(len(X))])\n",
    "\n",
    "X = np.array([-1, 0, 1, 2, 3, 4])\n",
    "Y = np.array([0.86603, 1, 0.86603, 0.5, 0, -0.5])"
   ]
  },
  {
   "cell_type": "code",
   "execution_count": 15,
   "metadata": {},
   "outputs": [
    {
     "data": {
      "image/png": "[encoded data removed]",
      "text/plain": [
       "<Figure size 720x504 with 1 Axes>"
      ]
     },
     "metadata": {
      "needs_background": "light"
     },
     "output_type": "display_data"
    }
   ],
   "source": [
    "plt.figure(figsize=(10,7))\n",
    "plt.scatter(X, Y)\n",
    "plt.grid()\n",
    "plt.show()"
   ]
  },
  {
   "cell_type": "code",
   "execution_count": 16,
   "metadata": {},
   "outputs": [],
   "source": [
    "f_1 = MNK(X, Y, 1)\n",
    "f_2 = MNK(X, Y, 2)\n",
    "\n",
    "xmin = -1\n",
    "xmax = 4\n",
    "dx = 0.01\n",
    "\n",
    "xarr = np.arange(xmin, xmax, dx)"
   ]
  },
  {
   "cell_type": "code",
   "execution_count": 17,
   "metadata": {},
   "outputs": [
    {
     "name": "stdout",
     "output_type": "stream",
     "text": [
      "Standard deviation of f_1(x) is 0.27081794892761896\n"
     ]
    },
    {
     "data": {
      "image/png": "[encoded data removed]",
      "text/plain": [
       "<Figure size 720x504 with 1 Axes>"
      ]
     },
     "metadata": {
      "needs_background": "light"
     },
     "output_type": "display_data"
    }
   ],
   "source": [
    "print(\"Standard deviation of f_1(x) is {}\".format(err(f_1, X, Y)))\n",
    "\n",
    "ylist = [f_1(x) for x in xarr]\n",
    "\n",
    "plt.figure(figsize=(10,7))\n",
    "plt.title(\"Многочлен 1 степени\")\n",
    "plt.grid()\n",
    "plt.scatter(X, Y)\n",
    "plt.plot(xarr, ylist)\n",
    "plt.plot([-1, 4], [0, 0])\n",
    "plt.plot([0, 0], [-0.5, 1])\n",
    "plt.xlabel('X')\n",
    "plt.ylabel('Y')\n",
    "plt.legend(['f_1(x)', 'Ox', 'Oy', 'Yi'])\n",
    "plt.show()"
   ]
  },
  {
   "cell_type": "code",
   "execution_count": 18,
   "metadata": {},
   "outputs": [
    {
     "name": "stdout",
     "output_type": "stream",
     "text": [
      "Standard deviation of f_2(x) is 0.01517892558357143\n"
     ]
    },
    {
     "data": {
      "image/png": "[encoded data removed]",
      "text/plain": [
       "<Figure size 720x504 with 1 Axes>"
      ]
     },
     "metadata": {
      "needs_background": "light"
     },
     "output_type": "display_data"
    }
   ],
   "source": [
    "print(\"Standard deviation of f_2(x) is {}\".format(err(f_2, X, Y)))\n",
    "\n",
    "ylist = [f_2(x) for x in xarr]\n",
    "\n",
    "plt.figure(figsize=(10,7))\n",
    "plt.title(\"Многочлен 2 степени\")\n",
    "plt.grid()\n",
    "plt.scatter(X, Y)\n",
    "plt.plot(xarr, ylist)\n",
    "plt.plot([-1, 4], [0, 0])\n",
    "plt.plot([0, 0], [-0.5, 1])\n",
    "plt.xlabel('X')\n",
    "plt.ylabel('Y')\n",
    "plt.legend(['f_2(x)', 'Ox', 'Oy', 'Yi'])\n",
    "plt.show()"
   ]
  },
  {
   "cell_type": "markdown",
   "metadata": {},
   "source": [
    "# Часть 4"
   ]
  },
  {
   "cell_type": "code",
   "execution_count": 19,
   "metadata": {},
   "outputs": [],
   "source": [
    "def diff(x, X, Y):\n",
    "    if len(X) != len(Y):\n",
    "        raise Exception(\"Несоответсвие размерностей\")\n",
    "    \n",
    "    for i in range(len(X) - 1):\n",
    "        if (x >= X[i]) & (x <= X[i + 1]):\n",
    "            if (x == X[i]) & (i != 0):\n",
    "                left = (Y[i] - Y[i - 1]) / (X[i] - X[i - 1])\n",
    "                right = (Y[i + 1] - Y[i]) / (X[i + 1] - X[i])\n",
    "                \n",
    "                mean = (left + right) / 2\n",
    "                \n",
    "                print('Левая производная: {}'.format(left))\n",
    "                print('Правая производная: {}'.format(right))\n",
    "                print('Среднее: {}'.format(mean))\n",
    "                \n",
    "            elif (x == X[i + 1]) & (i != len(X) - 1):\n",
    "                left = (Y[i + 1] - Y[i]) / (X[i + 1] - X[i])\n",
    "                right = (Y[i + 2] - Y[i + 1]) / (X[i + 2] - X[i + 1])\n",
    "                \n",
    "                mean = (left + right) / 2\n",
    "                \n",
    "                print('Левая производная: {}'.format(left))\n",
    "                print('Правая производная: {}'.format(right))\n",
    "                print('Среднее: {}'.format(mean))\n",
    "            else:\n",
    "                df_1 = (Y[i + 1] - Y[i]) / (X[i + 1] - X[i])\n",
    "                \n",
    "                print('1-я производная от функции первой степени: {}'.format(df_1))\n",
    "            df_2 = (Y[i + 1] - Y[i]) / (X[i + 1] - X[i]) + (((Y[i + 2] - Y[i + 1]) / (X[i + 2] - X[i + 1]) - (Y[i + 1] - Y[i]) / (X[i + 1] - X[i])) / (X[i + 2] - X[i])) * (2 * x - X[i] - X[i + 1])\n",
    "            ddf = 2 * (((Y[i + 2] - Y[i + 1]) / (X[i + 2] - X[i + 1]) - (Y[i + 1] - Y[i]) / (X[i + 1] - X[i])) / (X[i + 2] - X[i]))\n",
    "            \n",
    "            print('1-я производная от функции второй степени степени: {}'.format(df_2))\n",
    "            print('2-я производная от функции второй степени степени: {}'.format(ddf))\n",
    "            break\n",
    "            \n",
    "\n",
    "X = np.array([-1., 0., 1., 2., 3.])\n",
    "Y = np.array([-0.5, 0., 0.5, 0.86603, 1])\n",
    "x = 1."
   ]
  },
  {
   "cell_type": "code",
   "execution_count": 20,
   "metadata": {},
   "outputs": [
    {
     "data": {
      "image/png": "[encoded data removed]",
      "text/plain": [
       "<Figure size 720x504 with 1 Axes>"
      ]
     },
     "metadata": {
      "needs_background": "light"
     },
     "output_type": "display_data"
    }
   ],
   "source": [
    "plt.figure(figsize=(10,7))\n",
    "plt.scatter(X, Y)\n",
    "plt.grid()\n",
    "plt.show()"
   ]
  },
  {
   "cell_type": "code",
   "execution_count": 21,
   "metadata": {},
   "outputs": [
    {
     "name": "stdout",
     "output_type": "stream",
     "text": [
      "Левая производная: 0.5\n",
      "Правая производная: 0.36602999999999997\n",
      "Среднее: 0.433015\n",
      "1-я производная от функции второй степени степени: 0.433015\n",
      "2-я производная от функции второй степени степени: -0.13397000000000003\n"
     ]
    }
   ],
   "source": [
    "diff(x, X, Y)"
   ]
  },
  {
   "cell_type": "markdown",
   "metadata": {},
   "source": [
    "# Часть 5"
   ]
  },
  {
   "cell_type": "code",
   "execution_count": 22,
   "metadata": {},
   "outputs": [],
   "source": [
    "def y(x):\n",
    "    return x / ((3 * x + 4) ** 2)\n",
    "\n",
    "x0 = 0\n",
    "x1 = 4\n",
    "h1 = 1.\n",
    "h2 = 0.5\n",
    "p = 2"
   ]
  },
  {
   "cell_type": "code",
   "execution_count": 23,
   "metadata": {},
   "outputs": [],
   "source": [
    "def rectangle(x0, x1, f, h):\n",
    "    X = np.arange(x0, x1, h)\n",
    "    return h * sum([f(X[i] + h / 2) for i in range(len(X))])\n",
    "\n",
    "def trapeze(x0, x1, f, h):\n",
    "    X = np.arange(x0, x1, h)\n",
    "    return h * ((f(X[0]) + f(x1)) / 2 + sum([f(X[i]) for i in range(1, len(X))]))\n",
    "\n",
    "def Simpson(x0, x1, f, h):\n",
    "    res = 0\n",
    "    x = x0 + h\n",
    "    while x < x1:\n",
    "        res += f(x - h) + 4 * f(x) + f(x + h)\n",
    "        x += 2 * h\n",
    "    return (h / 3) * res\n",
    "\n",
    "def RRR(F1, F2, h1, h2, p):\n",
    "    if h1 < h2:\n",
    "        return F1 + (F1 - F2) / ((h2 / h1) ** p - 1)\n",
    "    return F2 + (F2 - F1) / ((h1 / h2) ** p - 1)"
   ]
  },
  {
   "cell_type": "code",
   "execution_count": 24,
   "metadata": {},
   "outputs": [],
   "source": [
    "p1 = rectangle(x0, x1, y, h1)\n",
    "t1 = trapeze(x0, x1, y, h1)\n",
    "s1 = Simpson(x0, x1, y, h1)\n",
    "\n",
    "p2 = rectangle(x0, x1, y, h2)\n",
    "t2 = trapeze(x0, x1, y, h2)\n",
    "s2 = Simpson(x0, x1, y, h2)\n",
    "\n",
    "rp = RRR(p1, p2, h1, h2, p)\n",
    "rt = RRR(t1, t2, h1, h2, p)\n",
    "rs = RRR(s1, s2, h1, h2, p)"
   ]
  },
  {
   "cell_type": "code",
   "execution_count": 25,
   "metadata": {},
   "outputs": [
    {
     "name": "stdout",
     "output_type": "stream",
     "text": [
      "h1 = 1.0\n",
      "Прямоугольник: 0.07284061196629331\n",
      "Трапеция: 0.06597214255524694\n",
      "Симпсон: 0.0694211900736626\n"
     ]
    }
   ],
   "source": [
    "print('h1 = {}'.format(h1))\n",
    "print(\"Прямоугольник: {}\".format(p1))\n",
    "print(\"Трапеция: {}\".format(t1))\n",
    "print(\"Симпсон: {}\".format(s1))"
   ]
  },
  {
   "cell_type": "code",
   "execution_count": 26,
   "metadata": {},
   "outputs": [
    {
     "name": "stdout",
     "output_type": "stream",
     "text": [
      "h2 = 0.5\n",
      "Прямоугольник: 0.0713276669809035\n",
      "Трапеция: 0.06940637726077012\n",
      "Симпсон: 0.07055112216261118\n"
     ]
    }
   ],
   "source": [
    "print('h2 = {}'.format(h2))\n",
    "print(\"Прямоугольник: {}\".format(p2))\n",
    "print(\"Трапеция: {}\".format(t2))\n",
    "print(\"Симпсон: {}\".format(s2))"
   ]
  },
  {
   "cell_type": "code",
   "execution_count": 27,
   "metadata": {},
   "outputs": [
    {
     "name": "stdout",
     "output_type": "stream",
     "text": [
      "\n",
      "Точное значение по Рунге-Ромбергу-Ридчардсону для прямоугольника: 0.07082335198577355;\n",
      "Погрешность: 0.002017259980519756 и 0.0005043149951299425\n",
      "\n",
      "Точное значение по Рунге-Ромбергу-Ридчардсону для трапеции: 0.07055112216261118;\n",
      "Погрешность: 0.004578979607364239 и 0.0011447449018410633\n",
      "\n",
      "Точное значение по Рунге-Ромбергу-Ридчардсону для Симпсона: 0.07082335198577355;\n",
      "Погрешность: 0.001506576118598113 и 0.00037664402964952826\n"
     ]
    }
   ],
   "source": [
    "print('\\nТочное значение по Рунге-Ромбергу-Ридчардсону для прямоугольника: {0};\\nПогрешность: {1} и {2}'.format(rp, abs(rp - p1), abs(rp - p2)))\n",
    "print('\\nТочное значение по Рунге-Ромбергу-Ридчардсону для трапеции: {0};\\nПогрешность: {1} и {2}'.format(rt, abs(rt - t1), abs(rt - t2)))\n",
    "print('\\nТочное значение по Рунге-Ромбергу-Ридчардсону для Симпсона: {0};\\nПогрешность: {1} и {2}'.format(rp, abs(rs - s1), abs(rs - s2)))"
   ]
  }
 ],
 "metadata": {
  "kernelspec": {
   "display_name": "Python 3",
   "language": "python",
   "name": "python3"
  },
  "language_info": {
   "codemirror_mode": {
    "name": "ipython",
    "version": 3
   },
   "file_extension": ".py",
   "mimetype": "text/x-python",
   "name": "python",
   "nbconvert_exporter": "python",
   "pygments_lexer": "ipython3",
   "version": "3.7.3"
  }
 },
 "nbformat": 4,
 "nbformat_minor": 2
}
