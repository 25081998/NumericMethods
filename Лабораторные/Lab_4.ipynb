{
 "cells": [
  {
   "cell_type": "markdown",
   "metadata": {},
   "source": [
    "## Лабораторная работа № 4\n",
    "## Бабичева Анна М8О-304Б-17\n",
    "## Вариант № 2"
   ]
  },
  {
   "cell_type": "markdown",
   "metadata": {},
   "source": [
    "Импортирую необходимые библиотеки, включая собственную matrix."
   ]
  },
  {
   "cell_type": "code",
   "execution_count": 1,
   "metadata": {},
   "outputs": [],
   "source": [
    "import numpy as np\n",
    "import pandas as pd\n",
    "import math\n",
    "import pylab\n",
    "import matplotlib.pyplot as plt\n",
    "import random\n",
    "import matrix\n",
    "\n",
    "from numpy import arange\n",
    "from numpy import meshgrid\n",
    "from matplotlib import mlab\n",
    "from sys import stdin\n",
    "from copy import deepcopy"
   ]
  },
  {
   "cell_type": "markdown",
   "metadata": {},
   "source": [
    "# Часть 1\n",
    "### 4.1. Реализовать методы Эйлера, Рунге-Кутты и Адамса 4-го порядка в виде программ, задавая в качестве входных данных шаг сетки h. С использованием разработанного программного обеспечения решить задачу Коши для ОДУ 2-го порядка на указанном отрезке. Оценить погрешность численного решения с использованием метода Рунге – Ромберга и путем сравнения с точным решением. "
   ]
  },
  {
   "cell_type": "markdown",
   "metadata": {},
   "source": [
    "Задача Коши:"
   ]
  },
  {
   "cell_type": "markdown",
   "metadata": {},
   "source": [
    "\\begin{equation}\n",
    "    y''+y-2cosx=0\n",
    "    \\\\\n",
    "    y(0)=1\n",
    "    \\\\\n",
    "    y'(0)=0\n",
    "\\end{equation}"
   ]
  },
  {
   "cell_type": "markdown",
   "metadata": {},
   "source": [
    "Точное решение:"
   ]
  },
  {
   "cell_type": "markdown",
   "metadata": {},
   "source": [
    "\\begin{equation}\n",
    "    y=xsinx+cosx\n",
    "\\end{equation}"
   ]
  },
  {
   "cell_type": "code",
   "execution_count": 2,
   "metadata": {},
   "outputs": [],
   "source": [
    "def f(x):\n",
    "    return x * math.sin(x) + math.cos(x)"
   ]
  },
  {
   "cell_type": "markdown",
   "metadata": {},
   "source": [
    "Первая производная:\n",
    "\n",
    "$f'(x)=xcosx$"
   ]
  },
  {
   "cell_type": "code",
   "execution_count": 3,
   "metadata": {},
   "outputs": [],
   "source": [
    "def dy(x):\n",
    "    return x * math.cos(x)"
   ]
  },
  {
   "cell_type": "markdown",
   "metadata": {},
   "source": [
    "Вторая производная:\n",
    "\n",
    "$f''(x)=cosx-xsinx$"
   ]
  },
  {
   "cell_type": "code",
   "execution_count": 4,
   "metadata": {},
   "outputs": [],
   "source": [
    "def ddy(x):\n",
    "    return math.cos(x) - x * math.sin(x)"
   ]
  },
  {
   "cell_type": "markdown",
   "metadata": {},
   "source": [
    "Исходную систему второго порядка свожу к системе первого порядка заменой $z=y'$:\n",
    "\n",
    "\\begin{cases}\n",
    "   z=y'\n",
    "   \\\\\n",
    "   z'=2cosx-y\n",
    "   \\\\\n",
    "   y(0)=1\n",
    "   \\\\\n",
    "   z(0)=0\n",
    " \\end{cases}"
   ]
  },
  {
   "cell_type": "code",
   "execution_count": 5,
   "metadata": {},
   "outputs": [],
   "source": [
    "def dz(x, y, z):\n",
    "    return -y + 2 * math.cos(x)"
   ]
  },
  {
   "cell_type": "markdown",
   "metadata": {},
   "source": [
    "Погрешность буду считать $\\surd{\\sum_{i=1}^n(y_i-f(x_i)}$"
   ]
  },
  {
   "cell_type": "code",
   "execution_count": 6,
   "metadata": {},
   "outputs": [],
   "source": [
    "def eps(x, y, f=f):\n",
    "    return sum([(y[i] - f(x[i])) ** 2 for i in range(len(x))]) ** 0.5\n",
    "\n",
    "def d_eps(x, z, dy=dy):\n",
    "    return sum([(z[i] - dy(x[i])) ** 2 for i in range(len(x))]) ** 0.5"
   ]
  },
  {
   "cell_type": "markdown",
   "metadata": {},
   "source": [
    "А также методом Рунге-Ромберга-Ридчардсона:"
   ]
  },
  {
   "cell_type": "code",
   "execution_count": 7,
   "metadata": {},
   "outputs": [],
   "source": [
    "def RRR(y1, y2, h1, h2, p):\n",
    "    if h1 < h2:\n",
    "        return (sum([(y1[i * 2] - y2[i]) ** 2 for i in range(len(y2))]) ** 0.5) / ((h2 / h1) ** p - 1)\n",
    "    return (sum([(y1[i] - y2[i * 2]) ** 2 for i in range(len(y1))]) ** 0.5) / ((h1 / h2) ** p - 1)"
   ]
  },
  {
   "attachments": {},
   "cell_type": "markdown",
   "metadata": {},
   "source": [
    "Явный метод Эйлера:"
   ]
  },
  {
   "cell_type": "markdown",
   "metadata": {},
   "source": [
    "\\begin{cases}\n",
    "    y_k=y_{k-1}+hz_{k-1}\n",
    "    \\\\\n",
    "    z_k=z_{k-1}+hf(x_{k-1},y_{k-1},z_{k-1})\n",
    "    \\\\\n",
    "    x_k=x_{k-1}+h\n",
    "\\end{cases}"
   ]
  },
  {
   "cell_type": "code",
   "execution_count": 8,
   "metadata": {},
   "outputs": [],
   "source": [
    "def Eiler(f=dz, y0=1, z0=0, h=0.1, a=0, b=1):\n",
    "    x = np.arange(a, b + h, h)\n",
    "    y = [y0]\n",
    "    z = [z0]\n",
    "    \n",
    "    for i in range(1, len(x)):\n",
    "        y.append(y[i - 1] + h * z[i - 1])\n",
    "        z.append(z[i - 1] + h * f(x[i - 1], y[i - 1], z[i - 1]))\n",
    "    return x, y, z"
   ]
  },
  {
   "cell_type": "markdown",
   "metadata": {},
   "source": [
    "Решение задачи Коши:"
   ]
  },
  {
   "cell_type": "code",
   "execution_count": 9,
   "metadata": {},
   "outputs": [
    {
     "name": "stdout",
     "output_type": "stream",
     "text": [
      "Погрешность явного метода Эйлера относительно точного решения: 0.04759341917441876\n",
      "Погрешность явного метода Эйлера относительно первой производной: 0.12749178510751422\n",
      "\n",
      "Погрешность по Рунге-Ромбергу-Ридчардсону явного метода Эйлера: 0.008559554963180461\n",
      "Погрешность по Рунге-Ромбергу-Ридчардсону явного метода Эйлера относительно первой производной: 0.02100401082135824\n"
     ]
    }
   ],
   "source": [
    "x1, y1, z1 = Eiler()\n",
    "eps1 = eps(x1, y1)\n",
    "eps2 = d_eps(x1, z1)\n",
    "print(\"Погрешность явного метода Эйлера относительно точного решения: {}\".format(eps1))\n",
    "print(\"Погрешность явного метода Эйлера относительно первой производной: {}\".format(eps2))\n",
    "print()\n",
    "x2, y2, z2 = Eiler(h=0.05)\n",
    "print(\"Погрешность по Рунге-Ромбергу-Ридчардсону явного метода Эйлера: {}\".format(RRR(y1, y2, 0.1, 0.05, 2)))\n",
    "print(\"Погрешность по Рунге-Ромбергу-Ридчардсону явного метода Эйлера относительно первой производной: {}\".format(RRR(z1, z2, 0.1, 0.05, 2)))"
   ]
  },
  {
   "cell_type": "markdown",
   "metadata": {},
   "source": [
    "График точного решения, первой производной и полученных методом точек:"
   ]
  },
  {
   "cell_type": "code",
   "execution_count": 10,
   "metadata": {},
   "outputs": [
    {
     "data": {
      "image/png": "[encoded data removed]",
      "text/plain": [
       "<Figure size 720x504 with 1 Axes>"
      ]
     },
     "metadata": {
      "needs_background": "light"
     },
     "output_type": "display_data"
    }
   ],
   "source": [
    "a = 0\n",
    "b = 1\n",
    "dx = 0.01\n",
    "\n",
    "xarr = np.arange(a, b + dx, dx)\n",
    "ylist = [f(x_) for x_ in xarr]\n",
    "dylist = [dy(x_) for x_ in xarr]\n",
    "\n",
    "plt.figure(figsize=(10,7))\n",
    "plt.title('Eiler')\n",
    "plt.plot(xarr, ylist)\n",
    "plt.scatter(x1, y1)\n",
    "plt.plot(xarr, dylist)\n",
    "plt.scatter(x1, z1)\n",
    "plt.legend(['y(x)', \"y'(x)\", 'y', 'z'])\n",
    "plt.grid()\n",
    "plt.show()"
   ]
  },
  {
   "cell_type": "markdown",
   "metadata": {},
   "source": [
    "Метод Рунге-Кутты 4-го порядка:"
   ]
  },
  {
   "cell_type": "markdown",
   "metadata": {},
   "source": [
    "\\begin{cases}\n",
    "    \\Delta y_{k-1}=\\frac{K_1^{k-1}+2K_2^{k-1}+2K_3^{k-1}+K_4^{k-1}}{6}\n",
    "    \\\\\n",
    "    \\Delta z_{k-1}=\\frac{L_1^{k-1}+2L_2^{k-1}+2L_3^{k-1}+L_4^{k-1}}{6}\n",
    "    \\\\\n",
    "    K_1^{k-1}=hz_{k-1}\n",
    "    \\\\\n",
    "    L_1^{k-1}=hf(x_{k-1},y_{k-1},z_{k-1})\n",
    "    \\\\\n",
    "    K_2^{k-1}=h(z_{k-1}+\\frac{L_1^{k-1}}{2})\n",
    "    \\\\\n",
    "    L_2^{k-1}=hf(x_{k-1}+\\frac{h}{2},y_{k-1}+\\frac{K_1^{k-1}}{2},z_{k-1}+\\frac{L_1^{k-1}}{2})\n",
    "    \\\\\n",
    "    K_3^{k-1}=h(z_{k-1}+\\frac{L_2^{k-1}}{2})\n",
    "    \\\\\n",
    "    L_3^{k-1}=hf(x_{k-1}+\\frac{h}{2},y_{k-1}+\\frac{K_2^{k-1}}{2},z_{k-1}+\\frac{L_2^{k-1}}{2})\n",
    "    \\\\\n",
    "    K_4^{k-1}=h(z_{k-1}+4L_3^{k-1})\n",
    "    \\\\\n",
    "    L_4^{k-1}=hf(x_{k-1}+h,y_{k-1}+K_3^{k-1},z_{k-1}+L_3^{k-1})\n",
    "\\end{cases}    "
   ]
  },
  {
   "cell_type": "code",
   "execution_count": 11,
   "metadata": {},
   "outputs": [],
   "source": [
    "def delta(f, xk, yk, zk, h, flag):\n",
    "    K1 = h * zk\n",
    "    L1 = h * f(xk, yk, zk)\n",
    "\n",
    "    K2 = h * (zk + 0.5 * L1)\n",
    "    L2 = h * f(xk + 0.5 * h, yk + 0.5 * K1, zk + 0.5 * L1)\n",
    "    \n",
    "    K3 = h * (zk + 0.5 * L2)\n",
    "    L3 = h * f(xk + 0.5 * h, yk + 0.5 * K2, zk + 0.5 * L2)\n",
    "    \n",
    "    K4 = h * (zk + L3)\n",
    "    L4 = h * f(xk + h, yk + K3, zk + L3)\n",
    "    \n",
    "    if flag == True:\n",
    "        return (K1 + 2 * K2 + 2 * K3 + K4) / 6\n",
    "    return (L1 + 2 * L2 + 2 * L3 + L4) / 6"
   ]
  },
  {
   "cell_type": "markdown",
   "metadata": {},
   "source": [
    "\\begin{cases}\n",
    "    y_k=y_{k-1}+\\Delta y_{k-1}\n",
    "    \\\\\n",
    "    z_k=z_{k-1}+\\Delta z_{k-1}\n",
    "    \\\\\n",
    "    x_k=x_{k-1}+h\n",
    "\\end{cases}"
   ]
  },
  {
   "cell_type": "code",
   "execution_count": 12,
   "metadata": {},
   "outputs": [],
   "source": [
    "def Runge_Kutta_4(f=dz, y0=1, z0=0, h=0.1, a=0, b=1):\n",
    "    x = np.arange(a, b + h, h)\n",
    "    y = [y0]\n",
    "    z = [z0]\n",
    "    \n",
    "    for i in range(1, len(x)):\n",
    "        y.append(y[i - 1] + delta(f, x[i - 1], y[i - 1], z[i - 1], h, True))\n",
    "        z.append(z[i - 1] + delta(f, x[i - 1], y[i - 1], z[i - 1], h, False))\n",
    "    return x, y, z"
   ]
  },
  {
   "cell_type": "markdown",
   "metadata": {},
   "source": [
    "Решение задачи Коши:"
   ]
  },
  {
   "cell_type": "code",
   "execution_count": 13,
   "metadata": {},
   "outputs": [
    {
     "name": "stdout",
     "output_type": "stream",
     "text": [
      "Погрешность метода Рунге-Кутты 4 порядка относительно точного решения: 1.9282188958038182e-06\n",
      "Погрешность метода Рунге-Кутты 4 порядка относительно первой производной: 3.8697981148477315e-07\n",
      "\n",
      "Погрешность по Рунге-Ромбергу-Ридчардсону метода Рунге-Кутты 4 порядка: 6.015445727739667e-07\n",
      "Погрешность по Рунге-Ромбергу-Ридчардсону явного метода Рунге-Кутты 4 порядка относительно первой производной: 1.1989555460188181e-07\n"
     ]
    }
   ],
   "source": [
    "x1, y1, z1 = Runge_Kutta_4()\n",
    "eps1 = eps(x1, y1)\n",
    "eps2 = d_eps(x1, z1)\n",
    "print(\"Погрешность метода Рунге-Кутты 4 порядка относительно точного решения: {}\".format(eps1))\n",
    "print(\"Погрешность метода Рунге-Кутты 4 порядка относительно первой производной: {}\".format(eps2))\n",
    "print()\n",
    "x2, y2, z2 = Runge_Kutta_4(h=0.05)\n",
    "print(\"Погрешность по Рунге-Ромбергу-Ридчардсону метода Рунге-Кутты 4 порядка: {}\".format(RRR(y1, y2, 0.1, 0.05, 2)))\n",
    "print(\"Погрешность по Рунге-Ромбергу-Ридчардсону явного метода Рунге-Кутты 4 порядка относительно первой производной: {}\".format(RRR(z1, z2, 0.1, 0.05, 2)))"
   ]
  },
  {
   "cell_type": "markdown",
   "metadata": {},
   "source": [
    "График точного решения, первой производной и полученных методом точек:"
   ]
  },
  {
   "cell_type": "code",
   "execution_count": 14,
   "metadata": {},
   "outputs": [
    {
     "data": {
      "image/png": "[encoded data removed]",
      "text/plain": [
       "<Figure size 720x504 with 1 Axes>"
      ]
     },
     "metadata": {
      "needs_background": "light"
     },
     "output_type": "display_data"
    }
   ],
   "source": [
    "plt.figure(figsize=(10,7))\n",
    "plt.title('Runge Kutta')\n",
    "plt.plot(xarr, ylist)\n",
    "plt.scatter(x1, y1)\n",
    "plt.plot(xarr, dylist)\n",
    "plt.scatter(x1, z1)\n",
    "plt.legend(['y(x)', \"y'(x)\", 'y', 'z'])\n",
    "plt.grid()\n",
    "plt.show()"
   ]
  },
  {
   "cell_type": "markdown",
   "metadata": {},
   "source": [
    "Метод Адамса:"
   ]
  },
  {
   "cell_type": "markdown",
   "metadata": {},
   "source": [
    "\\begin{cases}\n",
    "    y_k=y_{k-1}+\\frac{h}{24}(55z_{k-1}-59z_{k-2}+37z_{k-3}-9z_{k-4})\n",
    "    \\\\\n",
    "    z_k=y_{k-1}+\\frac{h}{24}(55f_{k-1}-59f_{k-2}+37f_{k-3}-9f_{k-4})\n",
    "    \\\\\n",
    "    x_k=x_{k-1}+h\n",
    "\\end{cases}"
   ]
  },
  {
   "cell_type": "markdown",
   "metadata": {},
   "source": [
    "где значения $y_1, y_2, y_3$ получены методом Рунге-Кутты 4-го порядка."
   ]
  },
  {
   "cell_type": "code",
   "execution_count": 15,
   "metadata": {},
   "outputs": [],
   "source": [
    "def Adams_4(f=dz, y0=1, z0=0, h=0.1, a=0, b=1):\n",
    "    x, y, z = Runge_Kutta_4(f, y0, z0, h, a, b)\n",
    "    y = y[:4]\n",
    "    z = z[:4]\n",
    "    for k in range(4, len(x)):\n",
    "        y.append(y[k - 1] + (h / 24) * (55 * z[k - 1] - 59 * z[k - 2] + 37 * z[k - 3] - 9 * z[k - 4]))\n",
    "        z.append(z[k - 1] + (h / 24) * (55 * f(x[k - 1], y[k - 1], z[k - 1]) - 59 * f(x[k - 2], y[k - 2], z[k - 2]) + 37 * f(x[k - 3], y[k - 3], z[k - 3]) - 9 * f(x[k - 4], y[k - 4], z[k - 4])))\n",
    "    return x, y, z"
   ]
  },
  {
   "cell_type": "markdown",
   "metadata": {},
   "source": [
    "Решение задачи Коши:"
   ]
  },
  {
   "cell_type": "code",
   "execution_count": 16,
   "metadata": {},
   "outputs": [
    {
     "name": "stdout",
     "output_type": "stream",
     "text": [
      "Погрешность метода Адамса 4 порядка относительно точного решения: 0.00013105888621506954\n",
      "Погрешность метода Адамса 4 порядка относительно первой производной: 0.00014898663815534529\n",
      "\n",
      "Погрешность по Рунге-Ромбергу-Ридчардсону метода Адамса 4 порядка: 3.9951561672204316e-05\n",
      "Погрешность по Рунге-Ромбергу-Ридчардсону метода Адамса 4 порядка относительно первой производной: 4.582054044132409e-05\n"
     ]
    }
   ],
   "source": [
    "x1, y1, z1 = Adams_4()\n",
    "eps1 = eps(x1, y1)\n",
    "eps2 = d_eps(x1, z1)\n",
    "print(\"Погрешность метода Адамса 4 порядка относительно точного решения: {}\".format(eps1))\n",
    "print(\"Погрешность метода Адамса 4 порядка относительно первой производной: {}\".format(eps2))\n",
    "print()\n",
    "x2, y2, z2 = Adams_4(h=0.05)\n",
    "print(\"Погрешность по Рунге-Ромбергу-Ридчардсону метода Адамса 4 порядка: {}\".format(RRR(y1, y2, 0.1, 0.05, 2)))\n",
    "print(\"Погрешность по Рунге-Ромбергу-Ридчардсону метода Адамса 4 порядка относительно первой производной: {}\".format(RRR(z1, z2, 0.1, 0.05, 2)))"
   ]
  },
  {
   "cell_type": "markdown",
   "metadata": {},
   "source": [
    "График точного решения, первой производной и полученных методом точек:\n"
   ]
  },
  {
   "cell_type": "code",
   "execution_count": 17,
   "metadata": {},
   "outputs": [
    {
     "data": {
      "image/png": "[encoded data removed]",
      "text/plain": [
       "<Figure size 720x504 with 1 Axes>"
      ]
     },
     "metadata": {
      "needs_background": "light"
     },
     "output_type": "display_data"
    }
   ],
   "source": [
    "plt.figure(figsize=(10,7))\n",
    "plt.title('Adams')\n",
    "plt.plot(xarr, ylist)\n",
    "plt.scatter(x1, y1)\n",
    "plt.plot(xarr, dylist)\n",
    "plt.scatter(x1, z1)\n",
    "plt.legend(['y(x)', \"y'(x)\", 'y', 'z'])\n",
    "plt.grid()\n",
    "plt.show()"
   ]
  },
  {
   "cell_type": "markdown",
   "metadata": {},
   "source": [
    "# Часть 2\n",
    "### 4.2. Реализовать метод стрельбы и конечно-разностный метод решения краевой задачи для ОДУ в виде программ. С использованием разработанного программного обеспечения решить краевую задачу для обыкновенного дифференциального уравнения 2-го порядка на указанном отрезке. Оценить погрешность численного решения с использованием метода Рунге – Ромберга и путем сравнения с точным решением. "
   ]
  },
  {
   "cell_type": "markdown",
   "metadata": {},
   "source": [
    "Краевая задача:"
   ]
  },
  {
   "cell_type": "markdown",
   "metadata": {},
   "source": [
    "\\begin{equation}\n",
    "    xy''+2y'-xy=0\n",
    "    \\\\\n",
    "    y(1)=e^{-1}\n",
    "    \\\\\n",
    "    y(2)=0.5e^{-2}\n",
    "\\end{equation}"
   ]
  },
  {
   "cell_type": "markdown",
   "metadata": {},
   "source": [
    "Точное решение:"
   ]
  },
  {
   "cell_type": "markdown",
   "metadata": {},
   "source": [
    "\\begin{equation}\n",
    "    y(x)=\\frac{e^{-x}}{x}\n",
    "\\end{equation}"
   ]
  },
  {
   "cell_type": "code",
   "execution_count": 18,
   "metadata": {},
   "outputs": [],
   "source": [
    "def res(x):\n",
    "    return math.exp(-x) / x "
   ]
  },
  {
   "cell_type": "markdown",
   "metadata": {},
   "source": [
    "Первая производная:\n",
    "\n",
    "$y'(x)=-(x+1)e^{-x}x^{-2}$"
   ]
  },
  {
   "cell_type": "code",
   "execution_count": 19,
   "metadata": {},
   "outputs": [],
   "source": [
    "def dy_(x):\n",
    "    return -(x + 1) * math.exp(-x) * x ** (-2)"
   ]
  },
  {
   "cell_type": "markdown",
   "metadata": {},
   "source": [
    "Вторая производная:\n",
    "\n",
    "$y''(x)=e^{-x}(x^2+2x+2)x^{-3}$"
   ]
  },
  {
   "cell_type": "code",
   "execution_count": 20,
   "metadata": {},
   "outputs": [],
   "source": [
    "def ddy_(x):\n",
    "    return math.exp(-x) * (x ** 2 + 2 * x + 2) * x ** (-3)"
   ]
  },
  {
   "cell_type": "markdown",
   "metadata": {},
   "source": [
    "Исходную систему второго порядка свожу к системе первого порядка заменой $z=y'$:\n",
    "\n",
    "\\begin{cases}\n",
    "   z=y'\n",
    "   \\\\\n",
    "   z'=y-\\frac{2z}{x}\n",
    "   \\\\\n",
    "   y(1)=e^{-1}\n",
    "   \\\\\n",
    "   y(2)=0.5e^{-2}\n",
    " \\end{cases}"
   ]
  },
  {
   "cell_type": "code",
   "execution_count": 21,
   "metadata": {},
   "outputs": [],
   "source": [
    "def f_xyz(x, y, z):\n",
    "    return y - (2 * z) / x"
   ]
  },
  {
   "cell_type": "markdown",
   "metadata": {},
   "source": [
    "Метод стрельбы заключается многократном решении задачи Коши для приближенного нахождения решения краевой задачи. Начальные условия задачи Коши будут иметь вид:\n",
    "\n",
    "$y(a)=y_0$\n",
    "\n",
    "$y'(a)=\\eta$"
   ]
  },
  {
   "cell_type": "markdown",
   "metadata": {},
   "source": [
    "где $\\eta$ - значение тангенса угла наклона касательной к решению в точке $x=a$."
   ]
  },
  {
   "cell_type": "markdown",
   "metadata": {},
   "source": [
    "Решение задачи Коши будем осуществлять методом Рунге-Кутты 4-го порядка, а значение $\\eta$ будем искать:"
   ]
  },
  {
   "attachments": {
    "%D0%B8%D0%B7%D0%BE%D0%B1%D1%80%D0%B0%D0%B6%D0%B5%D0%BD%D0%B8%D0%B5.png": {
     "image/png": "[encoded data removed]"
    }
   },
   "cell_type": "markdown",
   "metadata": {},
   "source": [
    "![%D0%B8%D0%B7%D0%BE%D0%B1%D1%80%D0%B0%D0%B6%D0%B5%D0%BD%D0%B8%D0%B5.png](attachment:%D0%B8%D0%B7%D0%BE%D0%B1%D1%80%D0%B0%D0%B6%D0%B5%D0%BD%D0%B8%D0%B5.png)"
   ]
  },
  {
   "cell_type": "code",
   "execution_count": 22,
   "metadata": {},
   "outputs": [],
   "source": [
    "def shooting(f=f_xyz, y0=math.exp(-1), yn=0.5 * math.exp(-2), h=0.1, a=1, b=2, eps=0.0001, n0=None, n=None):\n",
    "    if n == None:\n",
    "        n = random.uniform(0, 1)\n",
    "    if n0 == None:\n",
    "        n0 = abs(n - random.uniform(0, 1))        \n",
    "    k = 0\n",
    "    while True:\n",
    "        k += 1\n",
    "        x_, y_, z_ = Runge_Kutta_4(f=f, y0=y0, z0=n0, h=h, a=a, b=b)\n",
    "        x, y, z = Runge_Kutta_4(f=f, y0=y0, z0=n, h=h, a=a, b=b)\n",
    "        e = abs(y[-1] - yn)\n",
    "        if e <= eps:\n",
    "            break\n",
    "        temp = n\n",
    "        n = n - (y[-1] - yn) * (n - n0) / ((y[-1] - yn) - (y_[-1] - yn))\n",
    "        n0 = temp\n",
    "    return x, y, z, k, e"
   ]
  },
  {
   "cell_type": "markdown",
   "metadata": {},
   "source": [
    "Решение краевой задачи:"
   ]
  },
  {
   "cell_type": "code",
   "execution_count": 23,
   "metadata": {},
   "outputs": [
    {
     "name": "stdout",
     "output_type": "stream",
     "text": [
      "Погрешность метода стрельбы относительно точного решения: 6.312373717607687e-06\n",
      "Погрешность метода стрельбы относительно первой производной: 2.671259467476342e-05\n",
      "Количество итераций метода стрельбы: 2\n",
      "Эпсилон метода стрельбы: 2.3037127760972e-15\n",
      "\n",
      "Погрешность по Рунге-Ромбергу-Ридчардсону метода стрельбы: 1.9835448844514994e-06\n",
      "Погрешность по Рунге-Ромбергу-Ридчардсону метода стрельбы относительно первой производной: 8.388747272128364e-06\n"
     ]
    }
   ],
   "source": [
    "x1, y1, z1, k, epsilon = shooting()\n",
    "eps1 = eps(x1, y1, res)\n",
    "eps2 = d_eps(x1, z1, dy_)\n",
    "print(\"Погрешность метода стрельбы относительно точного решения: {}\".format(eps1))\n",
    "print(\"Погрешность метода стрельбы относительно первой производной: {}\".format(eps2))\n",
    "print(\"Количество итераций метода стрельбы: {}\".format(k))\n",
    "print(\"Эпсилон метода стрельбы: {}\".format(epsilon))\n",
    "print()\n",
    "x2, y2, z2, k, epsilon = shooting(h=0.05)\n",
    "print(\"Погрешность по Рунге-Ромбергу-Ридчардсону метода стрельбы: {}\".format(RRR(y1, y2, 0.1, 0.05, 2)))\n",
    "print(\"Погрешность по Рунге-Ромбергу-Ридчардсону метода стрельбы относительно первой производной: {}\".format(RRR(z1, z2, 0.1, 0.05, 2)))"
   ]
  },
  {
   "cell_type": "markdown",
   "metadata": {},
   "source": [
    "График точного решения, первой производной и полученных методом точек:\n"
   ]
  },
  {
   "cell_type": "code",
   "execution_count": 24,
   "metadata": {},
   "outputs": [
    {
     "data": {
      "image/png": "[encoded data removed]",
      "text/plain": [
       "<Figure size 720x504 with 1 Axes>"
      ]
     },
     "metadata": {
      "needs_background": "light"
     },
     "output_type": "display_data"
    }
   ],
   "source": [
    "a = 1\n",
    "b = 2\n",
    "dx = 0.01\n",
    "\n",
    "xarr = np.arange(a, b + dx, dx)\n",
    "ylist = [res(x_) for x_ in xarr]\n",
    "dylist = [dy_(x_) for x_ in xarr]\n",
    "\n",
    "plt.figure(figsize=(10,7))\n",
    "plt.title('Shooting')\n",
    "plt.plot(xarr, ylist)\n",
    "plt.scatter(x1, y1)\n",
    "plt.plot(xarr, dylist)\n",
    "plt.scatter(x1, z1)\n",
    "plt.legend(['y(x)', \"y'(x)\", 'y', 'z'])\n",
    "plt.grid()\n",
    "plt.show()"
   ]
  },
  {
   "cell_type": "markdown",
   "metadata": {},
   "source": [
    "Для конечно-разностного метода необходимо представить искомое уравнение в виде $y''+p(x)y'+q(x)y=f(x)$."
   ]
  },
  {
   "cell_type": "markdown",
   "metadata": {},
   "source": [
    "$p(x)=\\frac{2}{x}$"
   ]
  },
  {
   "cell_type": "code",
   "execution_count": 25,
   "metadata": {},
   "outputs": [],
   "source": [
    "def p(x):\n",
    "    return 2 / x"
   ]
  },
  {
   "cell_type": "markdown",
   "metadata": {},
   "source": [
    "$q(x)=-x$"
   ]
  },
  {
   "cell_type": "code",
   "execution_count": 26,
   "metadata": {},
   "outputs": [],
   "source": [
    "def q(x):\n",
    "    return -x"
   ]
  },
  {
   "cell_type": "markdown",
   "metadata": {},
   "source": [
    "$f(x)=0$"
   ]
  },
  {
   "cell_type": "code",
   "execution_count": 27,
   "metadata": {},
   "outputs": [],
   "source": [
    "def f(x):\n",
    "    return 0"
   ]
  },
  {
   "attachments": {
    "%D0%B8%D0%B7%D0%BE%D0%B1%D1%80%D0%B0%D0%B6%D0%B5%D0%BD%D0%B8%D0%B5.png": {
     "image/png": "[encoded data removed]"
    }
   },
   "cell_type": "markdown",
   "metadata": {},
   "source": [
    "Значения функции определяются решением методом прогонки трехдиагональной системы уравнений вида:![%D0%B8%D0%B7%D0%BE%D0%B1%D1%80%D0%B0%D0%B6%D0%B5%D0%BD%D0%B8%D0%B5.png](attachment:%D0%B8%D0%B7%D0%BE%D0%B1%D1%80%D0%B0%D0%B6%D0%B5%D0%BD%D0%B8%D0%B5.png)"
   ]
  },
  {
   "cell_type": "code",
   "execution_count": 28,
   "metadata": {},
   "outputs": [],
   "source": [
    "def razn(p=p, q=q, f=f, ya=math.exp(-1), yb=0.5 * math.exp(-2), h=0.1, a=1, b=2):\n",
    "    A = []\n",
    "    B = []\n",
    "    rows = []\n",
    "    x = np.arange(a, b + h, h)\n",
    "    \n",
    "    n = len(x)\n",
    "    \n",
    "    for i in range(n):\n",
    "        if i == 0:\n",
    "            rows.append(1)\n",
    "        else:\n",
    "            rows.append(0)\n",
    "    A.append(rows)\n",
    "    B.append(ya)\n",
    "    \n",
    "    for i in range(1, n - 1):\n",
    "        rows = []\n",
    "        B.append(f(x[i]))\n",
    "        for j in range(n):            \n",
    "            if j == i - 1:\n",
    "                rows.append(1 / h ** 2 - p(x[i]) / (2 * h))\n",
    "            elif i == j:\n",
    "                rows.append(-2 / h ** 2 + q(x[i]))\n",
    "            elif j == i + 1:\n",
    "                rows.append(1 / h ** 2 + p(x[i]) / (2 * h))\n",
    "            else:\n",
    "                rows.append(0)\n",
    "        A.append(rows)\n",
    "    \n",
    "    rows = []\n",
    "    B.append(yb)\n",
    "    \n",
    "    for i in range(n):\n",
    "        if i == n - 1:\n",
    "            rows.append(1)\n",
    "        else:\n",
    "            rows.append(0)\n",
    "            \n",
    "    A.append(rows)    \n",
    "    y = matrix.Progonka(matrix.Matrix(A), B)\n",
    "    \n",
    "    return x, y"
   ]
  },
  {
   "cell_type": "markdown",
   "metadata": {},
   "source": [
    "Решение краевой задачи:"
   ]
  },
  {
   "cell_type": "code",
   "execution_count": 29,
   "metadata": {},
   "outputs": [
    {
     "name": "stdout",
     "output_type": "stream",
     "text": [
      "Погрешность конечно-разностного метода относительно точного решения: 0.017387605954569972\n",
      "\n",
      "Погрешность по Рунге-Ромбергу-Ридчардсону конечно-разностного метода: 1.962232908852973e-06\n"
     ]
    }
   ],
   "source": [
    "x1, y1 = razn()\n",
    "eps1 = eps(x1, y1, res)\n",
    "print(\"Погрешность конечно-разностного метода относительно точного решения: {}\".format(eps1))\n",
    "print()\n",
    "x2, y2 = razn(h=0.05)\n",
    "print(\"Погрешность по Рунге-Ромбергу-Ридчардсону конечно-разностного метода: {}\".format(RRR(y1, y2, 0.1, 0.05, 2)))"
   ]
  },
  {
   "cell_type": "markdown",
   "metadata": {},
   "source": [
    "График точного решения и полученных методом точек:"
   ]
  },
  {
   "cell_type": "code",
   "execution_count": 30,
   "metadata": {},
   "outputs": [
    {
     "data": {
      "image/png": "[encoded data removed]",
      "text/plain": [
       "<Figure size 720x504 with 1 Axes>"
      ]
     },
     "metadata": {
      "needs_background": "light"
     },
     "output_type": "display_data"
    }
   ],
   "source": [
    "plt.figure(figsize=(10,7))\n",
    "plt.title('Razn')\n",
    "plt.plot(xarr, ylist)\n",
    "plt.scatter(x1, y1)\n",
    "plt.legend(['y(x)', 'y'])\n",
    "plt.grid()\n",
    "plt.show()"
   ]
  }
 ],
 "metadata": {
  "kernelspec": {
   "display_name": "Python 3",
   "language": "python",
   "name": "python3"
  },
  "language_info": {
   "codemirror_mode": {
    "name": "ipython",
    "version": 3
   },
   "file_extension": ".py",
   "mimetype": "text/x-python",
   "name": "python",
   "nbconvert_exporter": "python",
   "pygments_lexer": "ipython3",
   "version": "3.7.3"
  }
 },
 "nbformat": 4,
 "nbformat_minor": 2
}
